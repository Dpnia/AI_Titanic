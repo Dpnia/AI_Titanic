{
 "cells": [
  {
   "cell_type": "code",
   "execution_count": 3,
   "metadata": {
    "collapsed": false,
    "scrolled": false
   },
   "outputs": [],
   "source": [
    "import tensorflow as tf\n",
    "import numpy as np\n",
    "import pandas as pd\n",
    "\n",
    "from tensorflow.python.lib.io import file_io\n",
    "\n",
    "t1 = file_io.read_file_to_string('train.csv')\n",
    "t1_data = t1.splitlines()\n",
    "\n",
    "t1_list_data = []\n",
    "t1_list_data2 = []\n",
    "for data in t1_data:\n",
    "    t1_list_data.append(data.decode(\"utf-8\"))\n",
    "\n",
    "for data in t1_list_data:\n",
    "    t1_list_data2.append(data.split(\",\"))\n",
    "\n",
    "t1_list_data2 = np.array(t1_list_data2[1:])\n",
    "\n",
    "train_df = pd.DataFrame(t1_list_data2, columns=['PassengerId', 'Survived', 'Pclass','Family Name', 'Last Name', 'Sex', 'Age', 'SibSp', 'Parch', 'Ticket', 'Fare', 'Cabin', 'Embarked'])\n"
   ]
  },
  {
   "cell_type": "code",
   "execution_count": 2,
   "metadata": {
    "collapsed": false
   },
   "outputs": [
    {
     "ename": "NameError",
     "evalue": "name 'file_io' is not defined",
     "output_type": "error",
     "traceback": [
      "\u001b[0;31m---------------------------------------------------------------------------\u001b[0m",
      "\u001b[0;31mNameError\u001b[0m                                 Traceback (most recent call last)",
      "\u001b[0;32m<ipython-input-2-331e839517a3>\u001b[0m in \u001b[0;36m<module>\u001b[0;34m()\u001b[0m\n\u001b[0;32m----> 1\u001b[0;31m \u001b[0mt2\u001b[0m \u001b[1;33m=\u001b[0m \u001b[0mfile_io\u001b[0m\u001b[1;33m.\u001b[0m\u001b[0mread_file_to_string\u001b[0m\u001b[1;33m(\u001b[0m\u001b[1;34m'test.csv'\u001b[0m\u001b[1;33m)\u001b[0m\u001b[1;33m\u001b[0m\u001b[0m\n\u001b[0m\u001b[1;32m      2\u001b[0m \u001b[0mt2_data\u001b[0m \u001b[1;33m=\u001b[0m \u001b[0mt2\u001b[0m\u001b[1;33m.\u001b[0m\u001b[0msplitlines\u001b[0m\u001b[1;33m(\u001b[0m\u001b[1;33m)\u001b[0m\u001b[1;33m\u001b[0m\u001b[0m\n\u001b[1;32m      3\u001b[0m \u001b[1;31m# t2\u001b[0m\u001b[1;33m\u001b[0m\u001b[1;33m\u001b[0m\u001b[0m\n\u001b[1;32m      4\u001b[0m \u001b[1;33m\u001b[0m\u001b[0m\n\u001b[1;32m      5\u001b[0m \u001b[0mt2_list_data\u001b[0m \u001b[1;33m=\u001b[0m \u001b[1;33m[\u001b[0m\u001b[1;33m]\u001b[0m\u001b[1;33m\u001b[0m\u001b[0m\n",
      "\u001b[0;31mNameError\u001b[0m: name 'file_io' is not defined"
     ]
    }
   ],
   "source": [
    "t2 = file_io.read_file_to_string('test.csv')\n",
    "t2_data = t2.splitlines()\n",
    "# t2\n",
    "\n",
    "t2_list_data = []\n",
    "t2_list_data2 = []\n",
    "for data in t2_data:\n",
    "    t2_list_data.append(data.decode(\"utf-8\"))\n",
    "\n",
    "for data in t2_list_data:\n",
    "    t2_list_data2.append(data.split(\",\"))\n",
    "    \n",
    "t2_list_data2 = t2_list_data2[1:]\n",
    "\n",
    "test_df = pd.DataFrame(t2_list_data2,columns=['PassengerId', 'Pclass','Family Name', 'Last Name', 'Sex', 'Age', 'SibSp', 'Parch', 'Ticket', 'Fare', 'Cabin', 'Embarked'])\n",
    "\n",
    "\n",
    "list_fare = []\n",
    "for a in range(418):\n",
    "    k = float(test_df.Fare[a])\n",
    "    list_fare.append(k)\n",
    "#     print(float(test_df.Fare[a]))\n",
    "# eval(test_df.Fare)\n",
    "print(float(list_fare))\n",
    "# list_fare = [float(x) for x in list_fare]\n",
    "\n",
    "# test_df.info()\n",
    "# test_df[\"Fare\"] = pd.Series(list_fare)\n",
    "# type(float(test_df.Fare[1]))\n",
    "# type(test_df.Fare)"
   ]
  },
  {
   "cell_type": "code",
   "execution_count": 225,
   "metadata": {
    "collapsed": false
   },
   "outputs": [
    {
     "name": "stdout",
     "output_type": "stream",
     "text": [
      "<class 'pandas.core.frame.DataFrame'>\n",
      "RangeIndex: 418 entries, 0 to 417\n",
      "Data columns (total 11 columns):\n",
      "PassengerId    418 non-null int64\n",
      "Pclass         418 non-null int64\n",
      "Name           418 non-null object\n",
      "Sex            418 non-null object\n",
      "Age            332 non-null float64\n",
      "SibSp          418 non-null int64\n",
      "Parch          418 non-null int64\n",
      "Ticket         418 non-null object\n",
      "Fare           417 non-null float64\n",
      "Cabin          91 non-null object\n",
      "Embarked       418 non-null object\n",
      "dtypes: float64(2), int64(4), object(5)\n",
      "memory usage: 36.0+ KB\n"
     ]
    }
   ],
   "source": [
    "ttt=pd.read_csv(\"test.csv\")\n",
    "ttt.info()"
   ]
  },
  {
   "cell_type": "code",
   "execution_count": null,
   "metadata": {
    "collapsed": true
   },
   "outputs": [],
   "source": []
  }
 ],
 "metadata": {
  "anaconda-cloud": {},
  "kernelspec": {
   "display_name": "Python [conda root]",
   "language": "python",
   "name": "conda-root-py"
  },
  "language_info": {
   "codemirror_mode": {
    "name": "ipython",
    "version": 3
   },
   "file_extension": ".py",
   "mimetype": "text/x-python",
   "name": "python",
   "nbconvert_exporter": "python",
   "pygments_lexer": "ipython3",
   "version": "3.5.2"
  }
 },
 "nbformat": 4,
 "nbformat_minor": 1
}
